{
 "cells": [
  {
   "cell_type": "code",
   "execution_count": 1,
   "id": "02d509aa",
   "metadata": {},
   "outputs": [
    {
     "data": {
      "text/plain": [
       "[1, 2, 3, 4, 'teste', False, True, 0.1]"
      ]
     },
     "execution_count": 1,
     "metadata": {},
     "output_type": "execute_result"
    }
   ],
   "source": [
    "my_array = [1, 2, 3, 4, 'teste', False, True, 0.1]\n",
    "my_array"
   ]
  },
  {
   "cell_type": "code",
   "execution_count": 2,
   "id": "0b000c1b",
   "metadata": {},
   "outputs": [
    {
     "data": {
      "text/plain": [
       "1"
      ]
     },
     "execution_count": 2,
     "metadata": {},
     "output_type": "execute_result"
    }
   ],
   "source": [
    "my_array[0]"
   ]
  },
  {
   "cell_type": "code",
   "execution_count": 3,
   "id": "f82b9ba0",
   "metadata": {},
   "outputs": [
    {
     "data": {
      "text/plain": [
       "0.1"
      ]
     },
     "execution_count": 3,
     "metadata": {},
     "output_type": "execute_result"
    }
   ],
   "source": [
    "my_array[-1]"
   ]
  },
  {
   "cell_type": "code",
   "execution_count": 4,
   "id": "2906a75e",
   "metadata": {},
   "outputs": [
    {
     "data": {
      "text/plain": [
       "[2, 3]"
      ]
     },
     "execution_count": 4,
     "metadata": {},
     "output_type": "execute_result"
    }
   ],
   "source": [
    "my_array[1:3]"
   ]
  },
  {
   "cell_type": "code",
   "execution_count": 5,
   "id": "b4a8e1f1",
   "metadata": {},
   "outputs": [
    {
     "data": {
      "text/plain": [
       "8"
      ]
     },
     "execution_count": 5,
     "metadata": {},
     "output_type": "execute_result"
    }
   ],
   "source": [
    "len(my_array)"
   ]
  },
  {
   "cell_type": "code",
   "execution_count": 6,
   "id": "29c0e6f8",
   "metadata": {},
   "outputs": [
    {
     "data": {
      "text/plain": [
       "1"
      ]
     },
     "execution_count": 6,
     "metadata": {},
     "output_type": "execute_result"
    }
   ],
   "source": [
    "my_array[-8]"
   ]
  },
  {
   "cell_type": "code",
   "execution_count": 7,
   "id": "0787ee50",
   "metadata": {},
   "outputs": [
    {
     "data": {
      "text/plain": [
       "[4, 'teste', False, True, 0.1]"
      ]
     },
     "execution_count": 7,
     "metadata": {},
     "output_type": "execute_result"
    }
   ],
   "source": [
    "my_array[3:]"
   ]
  },
  {
   "cell_type": "code",
   "execution_count": 8,
   "id": "b3909251",
   "metadata": {},
   "outputs": [
    {
     "data": {
      "text/plain": [
       "[7, 6, 5, 4, 3, 2, 1]"
      ]
     },
     "execution_count": 8,
     "metadata": {},
     "output_type": "execute_result"
    }
   ],
   "source": [
    "my_array = [7, 6, 5, 4, 3, 2, 1]\n",
    "my_array"
   ]
  },
  {
   "cell_type": "markdown",
   "id": "f6380b85",
   "metadata": {},
   "source": [
    "### Opções de Ordenação"
   ]
  },
  {
   "cell_type": "code",
   "execution_count": 9,
   "id": "353afe87",
   "metadata": {},
   "outputs": [
    {
     "data": {
      "text/plain": [
       "[1, 2, 3, 4, 5, 6, 7]"
      ]
     },
     "execution_count": 9,
     "metadata": {},
     "output_type": "execute_result"
    }
   ],
   "source": [
    "my_array.sort()\n",
    "my_array"
   ]
  },
  {
   "cell_type": "code",
   "execution_count": 10,
   "id": "d701b17e",
   "metadata": {},
   "outputs": [
    {
     "data": {
      "text/plain": [
       "[12, 25, 1, 42, 77, 98, 14, 5, 105, 16, 29]"
      ]
     },
     "execution_count": 10,
     "metadata": {},
     "output_type": "execute_result"
    }
   ],
   "source": [
    "my_array = [12, 25, 1, 42, 77, 98, 14, 5, 105, 16, 29]\n",
    "my_array"
   ]
  },
  {
   "cell_type": "code",
   "execution_count": 11,
   "id": "d85b8542",
   "metadata": {},
   "outputs": [
    {
     "data": {
      "text/plain": [
       "[1, 5, 12, 14, 16, 25, 29, 42, 77, 98, 105]"
      ]
     },
     "execution_count": 11,
     "metadata": {},
     "output_type": "execute_result"
    }
   ],
   "source": [
    "# não ordena, apenas exibe\n",
    "sorted(my_array) "
   ]
  },
  {
   "cell_type": "code",
   "execution_count": 12,
   "id": "c8948bca",
   "metadata": {},
   "outputs": [
    {
     "data": {
      "text/plain": [
       "[12, 25, 1, 42, 77, 98, 14, 5, 105, 16, 29]"
      ]
     },
     "execution_count": 12,
     "metadata": {},
     "output_type": "execute_result"
    }
   ],
   "source": [
    "my_array"
   ]
  },
  {
   "cell_type": "code",
   "execution_count": 13,
   "id": "e333d273",
   "metadata": {},
   "outputs": [
    {
     "data": {
      "text/plain": [
       "[1, 5, 12, 14, 16, 25, 29, 42, 77, 98, 105]"
      ]
     },
     "execution_count": 13,
     "metadata": {},
     "output_type": "execute_result"
    }
   ],
   "source": [
    "# ordena no array\n",
    "my_array.sort()\n",
    "my_array"
   ]
  },
  {
   "cell_type": "markdown",
   "id": "7333ab7a",
   "metadata": {},
   "source": [
    "### Inserindo e excluindo Elementos"
   ]
  },
  {
   "cell_type": "code",
   "execution_count": 14,
   "id": "64463356",
   "metadata": {},
   "outputs": [
    {
     "data": {
      "text/plain": [
       "[1, 5, 12, 14, 16, 25, 29, 42, 77, 98, 105]"
      ]
     },
     "execution_count": 14,
     "metadata": {},
     "output_type": "execute_result"
    }
   ],
   "source": [
    "my_array"
   ]
  },
  {
   "cell_type": "code",
   "execution_count": 15,
   "id": "a1214ce3",
   "metadata": {},
   "outputs": [
    {
     "data": {
      "text/plain": [
       "[99, 1, 5, 12, 14, 16, 25, 29, 42, 77, 98, 105]"
      ]
     },
     "execution_count": 15,
     "metadata": {},
     "output_type": "execute_result"
    }
   ],
   "source": [
    "# insere na posição específica\n",
    "my_array.insert(0, 99)\n",
    "my_array"
   ]
  },
  {
   "cell_type": "code",
   "execution_count": 16,
   "id": "bc8b61b7",
   "metadata": {},
   "outputs": [
    {
     "data": {
      "text/plain": [
       "[99, 1, 5, 12, 14, 16, 25, 29, 42, 77, 98, 105, 456]"
      ]
     },
     "execution_count": 16,
     "metadata": {},
     "output_type": "execute_result"
    }
   ],
   "source": [
    "# insere na última posição\n",
    "my_array.append(456)\n",
    "my_array"
   ]
  },
  {
   "cell_type": "code",
   "execution_count": 17,
   "id": "3c7e15bf",
   "metadata": {},
   "outputs": [
    {
     "data": {
      "text/plain": [
       "[99, 1, 5, 12, 14, 16, 29, 42, 77, 98, 105, 456]"
      ]
     },
     "execution_count": 17,
     "metadata": {},
     "output_type": "execute_result"
    }
   ],
   "source": [
    "# remover item\n",
    "my_array.remove(25)\n",
    "my_array"
   ]
  },
  {
   "cell_type": "code",
   "execution_count": 18,
   "id": "698892ca",
   "metadata": {},
   "outputs": [
    {
     "data": {
      "text/plain": [
       "[99, 1, 12, 14, 16, 29, 42, 77, 98, 105, 456]"
      ]
     },
     "execution_count": 18,
     "metadata": {},
     "output_type": "execute_result"
    }
   ],
   "source": [
    "del my_array[2]\n",
    "my_array"
   ]
  },
  {
   "cell_type": "markdown",
   "id": "eff1bd98",
   "metadata": {},
   "source": [
    "### Outras funções"
   ]
  },
  {
   "cell_type": "code",
   "execution_count": 19,
   "id": "6adf716e",
   "metadata": {},
   "outputs": [
    {
     "data": {
      "text/plain": [
       "1"
      ]
     },
     "execution_count": 19,
     "metadata": {},
     "output_type": "execute_result"
    }
   ],
   "source": [
    "min(my_array)"
   ]
  },
  {
   "cell_type": "code",
   "execution_count": 20,
   "id": "4e855500",
   "metadata": {},
   "outputs": [
    {
     "data": {
      "text/plain": [
       "456"
      ]
     },
     "execution_count": 20,
     "metadata": {},
     "output_type": "execute_result"
    }
   ],
   "source": [
    "max(my_array)"
   ]
  },
  {
   "cell_type": "markdown",
   "id": "f182ab01",
   "metadata": {},
   "source": [
    "### Matrizes"
   ]
  },
  {
   "cell_type": "code",
   "execution_count": 21,
   "id": "8ab11005",
   "metadata": {},
   "outputs": [
    {
     "data": {
      "text/plain": [
       "[[123, 456], [788, 321], [852, 753]]"
      ]
     },
     "execution_count": 21,
     "metadata": {},
     "output_type": "execute_result"
    }
   ],
   "source": [
    "matriz = [[123, 456], [788, 321], [852, 753]]\n",
    "matriz"
   ]
  },
  {
   "cell_type": "code",
   "execution_count": 22,
   "id": "87670046",
   "metadata": {},
   "outputs": [
    {
     "data": {
      "text/plain": [
       "456"
      ]
     },
     "execution_count": 22,
     "metadata": {},
     "output_type": "execute_result"
    }
   ],
   "source": [
    "matriz[0][1]"
   ]
  },
  {
   "cell_type": "code",
   "execution_count": 23,
   "id": "dd3d948b",
   "metadata": {},
   "outputs": [
    {
     "data": {
      "text/plain": [
       "321"
      ]
     },
     "execution_count": 23,
     "metadata": {},
     "output_type": "execute_result"
    }
   ],
   "source": [
    "matriz[1][1]"
   ]
  },
  {
   "cell_type": "code",
   "execution_count": 24,
   "id": "72ac7ff1",
   "metadata": {},
   "outputs": [
    {
     "data": {
      "text/plain": [
       "[123, 456]"
      ]
     },
     "execution_count": 24,
     "metadata": {},
     "output_type": "execute_result"
    }
   ],
   "source": [
    "matriz[0]"
   ]
  },
  {
   "cell_type": "code",
   "execution_count": 25,
   "id": "99acc7c6",
   "metadata": {},
   "outputs": [
    {
     "data": {
      "text/plain": [
       "[852, 753]"
      ]
     },
     "execution_count": 25,
     "metadata": {},
     "output_type": "execute_result"
    }
   ],
   "source": [
    "matriz[2]"
   ]
  },
  {
   "cell_type": "code",
   "execution_count": 26,
   "id": "22eef944",
   "metadata": {},
   "outputs": [
    {
     "name": "stdout",
     "output_type": "stream",
     "text": [
      "[123, 456]\n",
      "[788, 321]\n",
      "[852, 753]\n"
     ]
    }
   ],
   "source": [
    "for i in matriz:\n",
    "    print(i)"
   ]
  }
 ],
 "metadata": {
  "kernelspec": {
   "display_name": "Python 3 (ipykernel)",
   "language": "python",
   "name": "python3"
  },
  "language_info": {
   "codemirror_mode": {
    "name": "ipython",
    "version": 3
   },
   "file_extension": ".py",
   "mimetype": "text/x-python",
   "name": "python",
   "nbconvert_exporter": "python",
   "pygments_lexer": "ipython3",
   "version": "3.8.10"
  }
 },
 "nbformat": 4,
 "nbformat_minor": 5
}
